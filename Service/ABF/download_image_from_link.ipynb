{
 "cells": [
  {
   "cell_type": "code",
   "execution_count": 1,
   "metadata": {},
   "outputs": [],
   "source": [
    "# library import\n",
    "import urllib.request"
   ]
  },
  {
   "cell_type": "code",
   "execution_count": 3,
   "metadata": {},
   "outputs": [],
   "source": [
    "# img_link file\n",
    "txt_file = 'image_link.txt'"
   ]
  },
  {
   "cell_type": "code",
   "execution_count": 6,
   "metadata": {},
   "outputs": [
    {
     "name": "stdout",
     "output_type": "stream",
     "text": [
      "19171\n"
     ]
    }
   ],
   "source": [
    "# read txt file\n",
    "with open(txt_file, 'r') as file:\n",
    "    txt = file.read().split('\\n')\n",
    "\n",
    "print(len(txt))"
   ]
  },
  {
   "cell_type": "code",
   "execution_count": 9,
   "metadata": {
    "collapsed": true
   },
   "outputs": [
    {
     "name": "stdout",
     "output_type": "stream",
     "text": [
      "207\n",
      "290\n",
      "300\n",
      "1385\n",
      "2249\n",
      "2359\n",
      "2393\n",
      "2487\n",
      "2549\n",
      "2860\n",
      "2861\n",
      "3803\n",
      "4666\n",
      "4747\n",
      "5720\n",
      "6634\n",
      "6796\n",
      "8035\n",
      "9255\n",
      "9555\n",
      "9870\n",
      "10160\n",
      "10235\n",
      "11003\n",
      "11069\n",
      "11997\n",
      "12103\n",
      "12257\n",
      "12896\n"
     ]
    }
   ],
   "source": [
    "for idx in range(len(txt)):\n",
    "    try:\n",
    "        urllib.request.urlretrieve(txt[idx], './images/'+str(idx)+'.jpg')\n",
    "    except :\n",
    "        pass"
   ]
  },
  {
   "cell_type": "code",
   "execution_count": 4,
   "metadata": {},
   "outputs": [],
   "source": [
    "import glob\n",
    "\n",
    "image_list = glob.glob('./images/'+ '*.jpg')"
   ]
  },
  {
   "cell_type": "code",
   "execution_count": 5,
   "metadata": {
    "scrolled": true
   },
   "outputs": [
    {
     "name": "stdout",
     "output_type": "stream",
     "text": [
      "19142\n"
     ]
    }
   ],
   "source": [
    "print(len(image_list))"
   ]
  },
  {
   "cell_type": "code",
   "execution_count": 2,
   "metadata": {},
   "outputs": [
    {
     "data": {
      "text/plain": [
       "(' test.jpeg', <http.client.HTTPMessage at 0x7f4ae407a208>)"
      ]
     },
     "execution_count": 2,
     "metadata": {},
     "output_type": "execute_result"
    }
   ],
   "source": [
    "test_url = 'https://08imgmini.eastday.com/mobile/20191025/20191025192957_cb776b286873a1db8a636aa9ef08e4f3_13.jpeg' \n",
    "\n",
    "urllib.request.urlretrieve(test_url,' test.jpeg')"
   ]
  },
  {
   "cell_type": "code",
   "execution_count": 16,
   "metadata": {},
   "outputs": [],
   "source": [
    "path ='content_log/201911_json/'\n",
    "img_path = '20191103211056_cb22596cf61221f573baba453ed502b0_2.jpeg'\n",
    "\n",
    "img_url = 'content_img/'+path.split('/')[1].split('_')[0]+'/'+img_path"
   ]
  },
  {
   "cell_type": "code",
   "execution_count": 17,
   "metadata": {},
   "outputs": [
    {
     "data": {
      "text/plain": [
       "False"
      ]
     },
     "execution_count": 17,
     "metadata": {},
     "output_type": "execute_result"
    }
   ],
   "source": [
    "import os\n",
    "os.path.exists"
   ]
  },
  {
   "cell_type": "code",
   "execution_count": 19,
   "metadata": {},
   "outputs": [
    {
     "data": {
      "text/plain": [
       "'/mnt/piclick/Yolo-v3-Pytorch/Service/ABF'"
      ]
     },
     "execution_count": 19,
     "metadata": {},
     "output_type": "execute_result"
    }
   ],
   "source": [
    "os.getcwd()"
   ]
  },
  {
   "cell_type": "code",
   "execution_count": null,
   "metadata": {},
   "outputs": [],
   "source": []
  }
 ],
 "metadata": {
  "kernelspec": {
   "display_name": "Python 3",
   "language": "python",
   "name": "python3"
  },
  "language_info": {
   "codemirror_mode": {
    "name": "ipython",
    "version": 3
   },
   "file_extension": ".py",
   "mimetype": "text/x-python",
   "name": "python",
   "nbconvert_exporter": "python",
   "pygments_lexer": "ipython3",
   "version": "3.6.8"
  }
 },
 "nbformat": 4,
 "nbformat_minor": 2
}
