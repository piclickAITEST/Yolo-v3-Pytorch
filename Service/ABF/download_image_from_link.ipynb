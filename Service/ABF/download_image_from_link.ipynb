{
 "cells": [
  {
   "cell_type": "code",
   "execution_count": 2,
   "metadata": {},
   "outputs": [],
   "source": [
    "# library import\n",
    "import urllib.request"
   ]
  },
  {
   "cell_type": "code",
   "execution_count": 3,
   "metadata": {},
   "outputs": [],
   "source": [
    "# img_link file\n",
    "txt_file = 'image_link.txt'"
   ]
  },
  {
   "cell_type": "code",
   "execution_count": 6,
   "metadata": {},
   "outputs": [
    {
     "name": "stdout",
     "output_type": "stream",
     "text": [
      "19171\n"
     ]
    }
   ],
   "source": [
    "# read txt file\n",
    "with open(txt_file, 'r') as file:\n",
    "    txt = file.read().split('\\n')\n",
    "\n",
    "print(len(txt))"
   ]
  },
  {
   "cell_type": "code",
   "execution_count": 9,
   "metadata": {
    "collapsed": true
   },
   "outputs": [
    {
     "name": "stdout",
     "output_type": "stream",
     "text": [
      "207\n",
      "290\n",
      "300\n",
      "1385\n",
      "2249\n",
      "2359\n",
      "2393\n",
      "2487\n",
      "2549\n",
      "2860\n",
      "2861\n",
      "3803\n",
      "4666\n",
      "4747\n",
      "5720\n",
      "6634\n",
      "6796\n",
      "8035\n",
      "9255\n",
      "9555\n",
      "9870\n",
      "10160\n",
      "10235\n",
      "11003\n",
      "11069\n",
      "11997\n",
      "12103\n",
      "12257\n",
      "12896\n"
     ]
    }
   ],
   "source": [
    "for idx in range(len(txt)):\n",
    "    try:\n",
    "        urllib.request.urlretrieve(txt[idx], './images/'+str(idx)+'.jpg')\n",
    "    except :\n",
    "        pass"
   ]
  },
  {
   "cell_type": "code",
   "execution_count": 4,
   "metadata": {},
   "outputs": [],
   "source": [
    "import glob\n",
    "\n",
    "image_list = glob.glob('./images/'+ '*.jpg')"
   ]
  },
  {
   "cell_type": "code",
   "execution_count": 5,
   "metadata": {
    "scrolled": true
   },
   "outputs": [
    {
     "name": "stdout",
     "output_type": "stream",
     "text": [
      "19142\n"
     ]
    }
   ],
   "source": [
    "print(len(image_list))"
   ]
  },
  {
   "cell_type": "code",
   "execution_count": null,
   "metadata": {},
   "outputs": [],
   "source": []
  }
 ],
 "metadata": {
  "kernelspec": {
   "display_name": "sypark",
   "language": "python",
   "name": "sypark"
  },
  "language_info": {
   "codemirror_mode": {
    "name": "ipython",
    "version": 3
   },
   "file_extension": ".py",
   "mimetype": "text/x-python",
   "name": "python",
   "nbconvert_exporter": "python",
   "pygments_lexer": "ipython3",
   "version": "3.6.9"
  }
 },
 "nbformat": 4,
 "nbformat_minor": 2
}
