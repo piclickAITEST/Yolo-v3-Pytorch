{
 "cells": [
  {
   "cell_type": "code",
   "execution_count": null,
   "metadata": {},
   "outputs": [],
   "source": [
    "from imutils import paths\n",
    "import argparse\n",
    "import cv2\n",
    "import sys\n",
    "from PIL import Image\n",
    "\n",
    "def variance_of_laplacian(image):\n",
    "    return cv2.Laplacian(image, cv2.CV_64F).var()"
   ]
  },
  {
   "cell_type": "code",
   "execution_count": null,
   "metadata": {
    "scrolled": true
   },
   "outputs": [],
   "source": [
    "path = \"./off_images/\"\n",
    "\n",
    "\n",
    "ctr = 0\n",
    "blurimg = []\n",
    "for imagePath in paths.list_images(path):\n",
    "    ctr+=1\n",
    "    if ctr == 10000: break\n",
    "        \n",
    "    image = cv2.imread(imagePath)\n",
    "    try:\n",
    "        gray = cv2.cvtColor(image, cv2.COLOR_BGR2GRAY)\n",
    "    except:\n",
    "        continue\n",
    "    \n",
    "    fm = variance_of_laplacian(gray)\n",
    "    '''\n",
    "    if fm > 100:\n",
    "        text = imagePath+\" - Not Blurry: \"+str(fm)\n",
    "        #print(imagePath+\" - Not Blurry: \"+str(fm))\n",
    "    '''\n",
    "    \n",
    "    if fm < 30:\n",
    "        blurimg.append(imagePath)\n",
    "        text = imagePath+\" - Blurry: \"+str(fm)\n",
    "        print(imagePath+\" - Blurry: \"+str(fm))\n"
   ]
  },
  {
   "cell_type": "code",
   "execution_count": null,
   "metadata": {},
   "outputs": [],
   "source": [
    "len(blurimg)"
   ]
  },
  {
   "cell_type": "code",
   "execution_count": null,
   "metadata": {
    "scrolled": true
   },
   "outputs": [],
   "source": [
    "from IPython.display import display\n",
    "\n",
    "for img in blurimg:\n",
    "\n",
    "    display(Image.open(img))"
   ]
  },
  {
   "cell_type": "code",
   "execution_count": null,
   "metadata": {},
   "outputs": [],
   "source": [
    "import brisque"
   ]
  }
 ],
 "metadata": {
  "kernelspec": {
   "display_name": "sypark",
   "language": "python",
   "name": "sypark"
  },
  "language_info": {
   "codemirror_mode": {
    "name": "ipython",
    "version": 3
   },
   "file_extension": ".py",
   "mimetype": "text/x-python",
   "name": "python",
   "nbconvert_exporter": "python",
   "pygments_lexer": "ipython3",
   "version": "3.6.9"
  }
 },
 "nbformat": 4,
 "nbformat_minor": 2
}
