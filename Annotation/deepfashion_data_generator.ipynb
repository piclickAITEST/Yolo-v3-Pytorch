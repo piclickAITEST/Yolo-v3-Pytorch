{
 "cells": [
  {
   "cell_type": "markdown",
   "metadata": {},
   "source": [
    "### 1. Library Import"
   ]
  },
  {
   "cell_type": "code",
   "execution_count": 1,
   "metadata": {},
   "outputs": [],
   "source": [
    "import pandas as pd\n",
    "import numpy as np\n",
    "import matplotlib.pyplot as plt\n",
    "from PIL import Image\n",
    "import os\n",
    "\n",
    "abspath = '/home/piclick/data/deepfashion/Attribute/'"
   ]
  },
  {
   "cell_type": "code",
   "execution_count": 2,
   "metadata": {},
   "outputs": [],
   "source": [
    "l = []\n",
    "with open(abspath + 'Anno/list_bbox.txt') as f:\n",
    "    f.readline()\n",
    "    for line in f:\n",
    "        line = line.split()\n",
    "        l.append(line)"
   ]
  },
  {
   "cell_type": "markdown",
   "metadata": {},
   "source": [
    "### 3. df 형태로 파일 읽기"
   ]
  },
  {
   "cell_type": "code",
   "execution_count": 3,
   "metadata": {},
   "outputs": [
    {
     "data": {
      "text/html": [
       "<div>\n",
       "<style scoped>\n",
       "    .dataframe tbody tr th:only-of-type {\n",
       "        vertical-align: middle;\n",
       "    }\n",
       "\n",
       "    .dataframe tbody tr th {\n",
       "        vertical-align: top;\n",
       "    }\n",
       "\n",
       "    .dataframe thead th {\n",
       "        text-align: right;\n",
       "    }\n",
       "</style>\n",
       "<table border=\"1\" class=\"dataframe\">\n",
       "  <thead>\n",
       "    <tr style=\"text-align: right;\">\n",
       "      <th></th>\n",
       "      <th>0</th>\n",
       "      <th>1</th>\n",
       "      <th>2</th>\n",
       "      <th>3</th>\n",
       "      <th>4</th>\n",
       "    </tr>\n",
       "  </thead>\n",
       "  <tbody>\n",
       "    <tr>\n",
       "      <th>1</th>\n",
       "      <td>img/Sheer_Pleated-Front_Blouse/img_00000001.jpg</td>\n",
       "      <td>072</td>\n",
       "      <td>079</td>\n",
       "      <td>232</td>\n",
       "      <td>273</td>\n",
       "    </tr>\n",
       "    <tr>\n",
       "      <th>2</th>\n",
       "      <td>img/Sheer_Pleated-Front_Blouse/img_00000002.jpg</td>\n",
       "      <td>067</td>\n",
       "      <td>059</td>\n",
       "      <td>155</td>\n",
       "      <td>161</td>\n",
       "    </tr>\n",
       "    <tr>\n",
       "      <th>3</th>\n",
       "      <td>img/Sheer_Pleated-Front_Blouse/img_00000003.jpg</td>\n",
       "      <td>065</td>\n",
       "      <td>065</td>\n",
       "      <td>156</td>\n",
       "      <td>200</td>\n",
       "    </tr>\n",
       "    <tr>\n",
       "      <th>4</th>\n",
       "      <td>img/Sheer_Pleated-Front_Blouse/img_00000004.jpg</td>\n",
       "      <td>051</td>\n",
       "      <td>062</td>\n",
       "      <td>167</td>\n",
       "      <td>182</td>\n",
       "    </tr>\n",
       "    <tr>\n",
       "      <th>5</th>\n",
       "      <td>img/Sheer_Pleated-Front_Blouse/img_00000005.jpg</td>\n",
       "      <td>046</td>\n",
       "      <td>088</td>\n",
       "      <td>166</td>\n",
       "      <td>262</td>\n",
       "    </tr>\n",
       "  </tbody>\n",
       "</table>\n",
       "</div>"
      ],
      "text/plain": [
       "                                                 0    1    2    3    4\n",
       "1  img/Sheer_Pleated-Front_Blouse/img_00000001.jpg  072  079  232  273\n",
       "2  img/Sheer_Pleated-Front_Blouse/img_00000002.jpg  067  059  155  161\n",
       "3  img/Sheer_Pleated-Front_Blouse/img_00000003.jpg  065  065  156  200\n",
       "4  img/Sheer_Pleated-Front_Blouse/img_00000004.jpg  051  062  167  182\n",
       "5  img/Sheer_Pleated-Front_Blouse/img_00000005.jpg  046  088  166  262"
      ]
     },
     "execution_count": 3,
     "metadata": {},
     "output_type": "execute_result"
    }
   ],
   "source": [
    "df = pd.DataFrame(l)\n",
    "df = df.drop(0)\n",
    "df.head()"
   ]
  },
  {
   "cell_type": "markdown",
   "metadata": {},
   "source": [
    "컬럼명 가독성 좋게 수정하기 (x1, y1은 왼쪽 상단 좌표 / x2, y2는 오른쪽 하단 좌표값)"
   ]
  },
  {
   "cell_type": "code",
   "execution_count": 4,
   "metadata": {},
   "outputs": [
    {
     "data": {
      "text/html": [
       "<div>\n",
       "<style scoped>\n",
       "    .dataframe tbody tr th:only-of-type {\n",
       "        vertical-align: middle;\n",
       "    }\n",
       "\n",
       "    .dataframe tbody tr th {\n",
       "        vertical-align: top;\n",
       "    }\n",
       "\n",
       "    .dataframe thead th {\n",
       "        text-align: right;\n",
       "    }\n",
       "</style>\n",
       "<table border=\"1\" class=\"dataframe\">\n",
       "  <thead>\n",
       "    <tr style=\"text-align: right;\">\n",
       "      <th></th>\n",
       "      <th>img_path</th>\n",
       "      <th>x1</th>\n",
       "      <th>y1</th>\n",
       "      <th>x2</th>\n",
       "      <th>y2</th>\n",
       "    </tr>\n",
       "  </thead>\n",
       "  <tbody>\n",
       "    <tr>\n",
       "      <th>1</th>\n",
       "      <td>img/Sheer_Pleated-Front_Blouse/img_00000001.jpg</td>\n",
       "      <td>072</td>\n",
       "      <td>079</td>\n",
       "      <td>232</td>\n",
       "      <td>273</td>\n",
       "    </tr>\n",
       "    <tr>\n",
       "      <th>2</th>\n",
       "      <td>img/Sheer_Pleated-Front_Blouse/img_00000002.jpg</td>\n",
       "      <td>067</td>\n",
       "      <td>059</td>\n",
       "      <td>155</td>\n",
       "      <td>161</td>\n",
       "    </tr>\n",
       "    <tr>\n",
       "      <th>3</th>\n",
       "      <td>img/Sheer_Pleated-Front_Blouse/img_00000003.jpg</td>\n",
       "      <td>065</td>\n",
       "      <td>065</td>\n",
       "      <td>156</td>\n",
       "      <td>200</td>\n",
       "    </tr>\n",
       "    <tr>\n",
       "      <th>4</th>\n",
       "      <td>img/Sheer_Pleated-Front_Blouse/img_00000004.jpg</td>\n",
       "      <td>051</td>\n",
       "      <td>062</td>\n",
       "      <td>167</td>\n",
       "      <td>182</td>\n",
       "    </tr>\n",
       "    <tr>\n",
       "      <th>5</th>\n",
       "      <td>img/Sheer_Pleated-Front_Blouse/img_00000005.jpg</td>\n",
       "      <td>046</td>\n",
       "      <td>088</td>\n",
       "      <td>166</td>\n",
       "      <td>262</td>\n",
       "    </tr>\n",
       "  </tbody>\n",
       "</table>\n",
       "</div>"
      ],
      "text/plain": [
       "                                          img_path   x1   y1   x2   y2\n",
       "1  img/Sheer_Pleated-Front_Blouse/img_00000001.jpg  072  079  232  273\n",
       "2  img/Sheer_Pleated-Front_Blouse/img_00000002.jpg  067  059  155  161\n",
       "3  img/Sheer_Pleated-Front_Blouse/img_00000003.jpg  065  065  156  200\n",
       "4  img/Sheer_Pleated-Front_Blouse/img_00000004.jpg  051  062  167  182\n",
       "5  img/Sheer_Pleated-Front_Blouse/img_00000005.jpg  046  088  166  262"
      ]
     },
     "execution_count": 4,
     "metadata": {},
     "output_type": "execute_result"
    }
   ],
   "source": [
    "df.columns = ['img_path','x1','y1','x2','y2']\n",
    "df.head()"
   ]
  },
  {
   "cell_type": "markdown",
   "metadata": {},
   "source": [
    "### 4. 카테고리 파일 불러오기"
   ]
  },
  {
   "cell_type": "code",
   "execution_count": 5,
   "metadata": {},
   "outputs": [],
   "source": [
    "cate_img = {}\n",
    "with open(abspath+'Anno/list_category_img.txt') as f:\n",
    "    f.readline()\n",
    "    f.readline()\n",
    "    for line in f:\n",
    "        c, n = line.split()\n",
    "        cate_img[c] = n"
   ]
  },
  {
   "cell_type": "code",
   "execution_count": 6,
   "metadata": {},
   "outputs": [],
   "source": [
    "dict_img = {}\n",
    "for v in cate_img.values():\n",
    "    if not v in dict_img: dict_img[v]=1\n",
    "    else: dict_img[v]+=1"
   ]
  },
  {
   "cell_type": "code",
   "execution_count": 7,
   "metadata": {},
   "outputs": [
    {
     "name": "stdout",
     "output_type": "stream",
     "text": [
      "{'3': 24557, '2': 7495, '5': 330, '4': 309, '1': 160, '18': 36887, '17': 15429, '19': 10078, '16': 13123, '7': 324, '10': 4048, '6': 13311, '11': 10467, '9': 716, '15': 791, '12': 748, '20': 146, '13': 676, '14': 97, '8': 17, '33': 14773, '32': 19666, '26': 7076, '29': 4416, '34': 3048, '27': 594, '24': 1669, '35': 1106, '30': 5013, '23': 486, '22': 527, '36': 386, '31': 32, '25': 49, '28': 45, '21': 77, '41': 72158, '48': 7408, '39': 2120, '44': 2294, '42': 6153, '47': 150, '37': 54, '43': 126, '40': 17, '46': 70}\n"
     ]
    }
   ],
   "source": [
    "print(dict_img)"
   ]
  },
  {
   "cell_type": "code",
   "execution_count": 8,
   "metadata": {},
   "outputs": [],
   "source": [
    "cate = {}\n",
    "with open(abspath+'Anno/list_category_cloth.txt') as f:\n",
    "    f.readline()\n",
    "    f.readline()\n",
    "    for line in f:\n",
    "        c, n = line.split()\n",
    "        cate[c] = n"
   ]
  },
  {
   "cell_type": "code",
   "execution_count": 9,
   "metadata": {},
   "outputs": [
    {
     "name": "stdout",
     "output_type": "stream",
     "text": [
      "총 아이템의 갯수는 50 개\n",
      "dict_items([('Anorak', '1'), ('Blazer', '1'), ('Blouse', '1'), ('Bomber', '1'), ('Button-Down', '1'), ('Cardigan', '1'), ('Flannel', '1'), ('Halter', '1'), ('Henley', '1'), ('Hoodie', '1'), ('Jacket', '1'), ('Jersey', '1'), ('Parka', '1'), ('Peacoat', '1'), ('Poncho', '1'), ('Sweater', '1'), ('Tank', '1'), ('Tee', '1'), ('Top', '1'), ('Turtleneck', '1'), ('Capris', '2'), ('Chinos', '2'), ('Culottes', '2'), ('Cutoffs', '2'), ('Gauchos', '2'), ('Jeans', '2'), ('Jeggings', '2'), ('Jodhpurs', '2'), ('Joggers', '2'), ('Leggings', '2'), ('Sarong', '2'), ('Shorts', '2'), ('Skirt', '2'), ('Sweatpants', '2'), ('Sweatshorts', '2'), ('Trunks', '2'), ('Caftan', '3'), ('Cape', '3'), ('Coat', '3'), ('Coverup', '3'), ('Dress', '3'), ('Jumpsuit', '3'), ('Kaftan', '3'), ('Kimono', '3'), ('Nightdress', '3'), ('Onesie', '3'), ('Robe', '3'), ('Romper', '3'), ('Shirtdress', '3'), ('Sundress', '3')])\n"
     ]
    }
   ],
   "source": [
    "print('총 아이템의 갯수는',len(cate),'개')\n",
    "print(cate.items())"
   ]
  },
  {
   "cell_type": "code",
   "execution_count": 10,
   "metadata": {
    "scrolled": true
   },
   "outputs": [
    {
     "data": {
      "text/plain": [
       "50"
      ]
     },
     "execution_count": 10,
     "metadata": {},
     "output_type": "execute_result"
    }
   ],
   "source": [
    "# Customize label\n",
    "s = '1 1 2 1 2 1 2 2 2 2 1 1 1 1 1 2 2 2 2 2 3 3 3 3 3 3 3 3 3 3 3 3 3 3 3 3 4 1 1 4 4 4 4 4 4 4 4 4 4 4'\n",
    "new_category = s.split()\n",
    "len(new_category)"
   ]
  },
  {
   "cell_type": "code",
   "execution_count": 11,
   "metadata": {
    "scrolled": true
   },
   "outputs": [],
   "source": [
    "for i,k in enumerate(cate.keys()):\n",
    "    cate[k] = int(new_category[i]) - 1"
   ]
  },
  {
   "cell_type": "code",
   "execution_count": 12,
   "metadata": {
    "scrolled": false
   },
   "outputs": [
    {
     "data": {
      "text/plain": [
       "{'Anorak': 0,\n",
       " 'Blazer': 0,\n",
       " 'Blouse': 1,\n",
       " 'Bomber': 0,\n",
       " 'Button-Down': 1,\n",
       " 'Caftan': 3,\n",
       " 'Cape': 0,\n",
       " 'Capris': 2,\n",
       " 'Cardigan': 0,\n",
       " 'Chinos': 2,\n",
       " 'Coat': 0,\n",
       " 'Coverup': 3,\n",
       " 'Culottes': 2,\n",
       " 'Cutoffs': 2,\n",
       " 'Dress': 3,\n",
       " 'Flannel': 1,\n",
       " 'Gauchos': 2,\n",
       " 'Halter': 1,\n",
       " 'Henley': 1,\n",
       " 'Hoodie': 1,\n",
       " 'Jacket': 0,\n",
       " 'Jeans': 2,\n",
       " 'Jeggings': 2,\n",
       " 'Jersey': 0,\n",
       " 'Jodhpurs': 2,\n",
       " 'Joggers': 2,\n",
       " 'Jumpsuit': 3,\n",
       " 'Kaftan': 3,\n",
       " 'Kimono': 3,\n",
       " 'Leggings': 2,\n",
       " 'Nightdress': 3,\n",
       " 'Onesie': 3,\n",
       " 'Parka': 0,\n",
       " 'Peacoat': 0,\n",
       " 'Poncho': 0,\n",
       " 'Robe': 3,\n",
       " 'Romper': 3,\n",
       " 'Sarong': 2,\n",
       " 'Shirtdress': 3,\n",
       " 'Shorts': 2,\n",
       " 'Skirt': 2,\n",
       " 'Sundress': 3,\n",
       " 'Sweater': 1,\n",
       " 'Sweatpants': 2,\n",
       " 'Sweatshorts': 2,\n",
       " 'Tank': 1,\n",
       " 'Tee': 1,\n",
       " 'Top': 1,\n",
       " 'Trunks': 2,\n",
       " 'Turtleneck': 1}"
      ]
     },
     "execution_count": 12,
     "metadata": {},
     "output_type": "execute_result"
    }
   ],
   "source": [
    "cate # 0 : outer, 1 : Top, 2: Bottom, 3:Onepiece"
   ]
  },
  {
   "cell_type": "markdown",
   "metadata": {},
   "source": [
    "### 5. 이미지 이름에서 아이템의 이름을 찾아 라벨 할당"
   ]
  },
  {
   "cell_type": "code",
   "execution_count": 13,
   "metadata": {},
   "outputs": [],
   "source": [
    "value = []\n",
    "\n",
    "for img_name in df['img_path']:\n",
    "    for idx in cate:\n",
    "        if idx in img_name:\n",
    "            value.append(int(cate[idx]))\n",
    "            break\n",
    "        else:\n",
    "            continue"
   ]
  },
  {
   "cell_type": "code",
   "execution_count": 14,
   "metadata": {},
   "outputs": [
    {
     "data": {
      "text/plain": [
       "289222"
      ]
     },
     "execution_count": 14,
     "metadata": {},
     "output_type": "execute_result"
    }
   ],
   "source": [
    "len(value)"
   ]
  },
  {
   "cell_type": "markdown",
   "metadata": {},
   "source": [
    "### 6. 새로 생성한 라벨 리스트 df에 추가 & 컬럼위치 변경"
   ]
  },
  {
   "cell_type": "code",
   "execution_count": 15,
   "metadata": {},
   "outputs": [],
   "source": [
    "#리스트를 df에 추가하기\n",
    "\n",
    "df['label'] = value"
   ]
  },
  {
   "cell_type": "code",
   "execution_count": 16,
   "metadata": {},
   "outputs": [],
   "source": [
    "df2 = df"
   ]
  },
  {
   "cell_type": "code",
   "execution_count": 17,
   "metadata": {},
   "outputs": [
    {
     "data": {
      "text/html": [
       "<div>\n",
       "<style scoped>\n",
       "    .dataframe tbody tr th:only-of-type {\n",
       "        vertical-align: middle;\n",
       "    }\n",
       "\n",
       "    .dataframe tbody tr th {\n",
       "        vertical-align: top;\n",
       "    }\n",
       "\n",
       "    .dataframe thead th {\n",
       "        text-align: right;\n",
       "    }\n",
       "</style>\n",
       "<table border=\"1\" class=\"dataframe\">\n",
       "  <thead>\n",
       "    <tr style=\"text-align: right;\">\n",
       "      <th></th>\n",
       "      <th>img_path</th>\n",
       "      <th>label</th>\n",
       "      <th>x1</th>\n",
       "      <th>y1</th>\n",
       "      <th>x2</th>\n",
       "      <th>y2</th>\n",
       "    </tr>\n",
       "  </thead>\n",
       "  <tbody>\n",
       "    <tr>\n",
       "      <th>1</th>\n",
       "      <td>img/Sheer_Pleated-Front_Blouse/img_00000001.jpg</td>\n",
       "      <td>1</td>\n",
       "      <td>072</td>\n",
       "      <td>079</td>\n",
       "      <td>232</td>\n",
       "      <td>273</td>\n",
       "    </tr>\n",
       "    <tr>\n",
       "      <th>2</th>\n",
       "      <td>img/Sheer_Pleated-Front_Blouse/img_00000002.jpg</td>\n",
       "      <td>1</td>\n",
       "      <td>067</td>\n",
       "      <td>059</td>\n",
       "      <td>155</td>\n",
       "      <td>161</td>\n",
       "    </tr>\n",
       "    <tr>\n",
       "      <th>3</th>\n",
       "      <td>img/Sheer_Pleated-Front_Blouse/img_00000003.jpg</td>\n",
       "      <td>1</td>\n",
       "      <td>065</td>\n",
       "      <td>065</td>\n",
       "      <td>156</td>\n",
       "      <td>200</td>\n",
       "    </tr>\n",
       "    <tr>\n",
       "      <th>4</th>\n",
       "      <td>img/Sheer_Pleated-Front_Blouse/img_00000004.jpg</td>\n",
       "      <td>1</td>\n",
       "      <td>051</td>\n",
       "      <td>062</td>\n",
       "      <td>167</td>\n",
       "      <td>182</td>\n",
       "    </tr>\n",
       "    <tr>\n",
       "      <th>5</th>\n",
       "      <td>img/Sheer_Pleated-Front_Blouse/img_00000005.jpg</td>\n",
       "      <td>1</td>\n",
       "      <td>046</td>\n",
       "      <td>088</td>\n",
       "      <td>166</td>\n",
       "      <td>262</td>\n",
       "    </tr>\n",
       "  </tbody>\n",
       "</table>\n",
       "</div>"
      ],
      "text/plain": [
       "                                          img_path  label   x1   y1   x2   y2\n",
       "1  img/Sheer_Pleated-Front_Blouse/img_00000001.jpg      1  072  079  232  273\n",
       "2  img/Sheer_Pleated-Front_Blouse/img_00000002.jpg      1  067  059  155  161\n",
       "3  img/Sheer_Pleated-Front_Blouse/img_00000003.jpg      1  065  065  156  200\n",
       "4  img/Sheer_Pleated-Front_Blouse/img_00000004.jpg      1  051  062  167  182\n",
       "5  img/Sheer_Pleated-Front_Blouse/img_00000005.jpg      1  046  088  166  262"
      ]
     },
     "execution_count": 17,
     "metadata": {},
     "output_type": "execute_result"
    }
   ],
   "source": [
    "#칼럼 순서 변경\n",
    "df2 = df2[['img_path','label','x1','y1','x2','y2']]\n",
    "df2.head()"
   ]
  },
  {
   "cell_type": "markdown",
   "metadata": {},
   "source": [
    "### 이미지의 width, height 칼럼에 추가하기"
   ]
  },
  {
   "cell_type": "code",
   "execution_count": 18,
   "metadata": {},
   "outputs": [],
   "source": [
    "width = []\n",
    "height = []\n",
    "\n",
    "for img_name in df2['img_path']:\n",
    "    img = Image.open(os.path.join(abspath,img_name))\n",
    "    w,h = img.size\n",
    "    width.append(w)\n",
    "    height.append(h)"
   ]
  },
  {
   "cell_type": "code",
   "execution_count": 19,
   "metadata": {},
   "outputs": [
    {
     "name": "stderr",
     "output_type": "stream",
     "text": [
      "/usr/lib/python3/dist-packages/ipykernel_launcher.py:1: SettingWithCopyWarning: \n",
      "A value is trying to be set on a copy of a slice from a DataFrame.\n",
      "Try using .loc[row_indexer,col_indexer] = value instead\n",
      "\n",
      "See the caveats in the documentation: http://pandas.pydata.org/pandas-docs/stable/user_guide/indexing.html#returning-a-view-versus-a-copy\n",
      "  \"\"\"Entry point for launching an IPython kernel.\n",
      "/usr/lib/python3/dist-packages/ipykernel_launcher.py:2: SettingWithCopyWarning: \n",
      "A value is trying to be set on a copy of a slice from a DataFrame.\n",
      "Try using .loc[row_indexer,col_indexer] = value instead\n",
      "\n",
      "See the caveats in the documentation: http://pandas.pydata.org/pandas-docs/stable/user_guide/indexing.html#returning-a-view-versus-a-copy\n",
      "  \n"
     ]
    }
   ],
   "source": [
    "df2['width'] = width\n",
    "df2['height'] = height"
   ]
  },
  {
   "cell_type": "code",
   "execution_count": 20,
   "metadata": {
    "scrolled": true
   },
   "outputs": [
    {
     "data": {
      "text/html": [
       "<div>\n",
       "<style scoped>\n",
       "    .dataframe tbody tr th:only-of-type {\n",
       "        vertical-align: middle;\n",
       "    }\n",
       "\n",
       "    .dataframe tbody tr th {\n",
       "        vertical-align: top;\n",
       "    }\n",
       "\n",
       "    .dataframe thead th {\n",
       "        text-align: right;\n",
       "    }\n",
       "</style>\n",
       "<table border=\"1\" class=\"dataframe\">\n",
       "  <thead>\n",
       "    <tr style=\"text-align: right;\">\n",
       "      <th></th>\n",
       "      <th>img_path</th>\n",
       "      <th>width</th>\n",
       "      <th>height</th>\n",
       "      <th>label</th>\n",
       "      <th>x1</th>\n",
       "      <th>y1</th>\n",
       "      <th>x2</th>\n",
       "      <th>y2</th>\n",
       "    </tr>\n",
       "  </thead>\n",
       "  <tbody>\n",
       "    <tr>\n",
       "      <th>1</th>\n",
       "      <td>img/Sheer_Pleated-Front_Blouse/img_00000001.jpg</td>\n",
       "      <td>300</td>\n",
       "      <td>300</td>\n",
       "      <td>1</td>\n",
       "      <td>72</td>\n",
       "      <td>79</td>\n",
       "      <td>232</td>\n",
       "      <td>273</td>\n",
       "    </tr>\n",
       "    <tr>\n",
       "      <th>2</th>\n",
       "      <td>img/Sheer_Pleated-Front_Blouse/img_00000002.jpg</td>\n",
       "      <td>205</td>\n",
       "      <td>300</td>\n",
       "      <td>1</td>\n",
       "      <td>67</td>\n",
       "      <td>59</td>\n",
       "      <td>155</td>\n",
       "      <td>161</td>\n",
       "    </tr>\n",
       "    <tr>\n",
       "      <th>3</th>\n",
       "      <td>img/Sheer_Pleated-Front_Blouse/img_00000003.jpg</td>\n",
       "      <td>207</td>\n",
       "      <td>300</td>\n",
       "      <td>1</td>\n",
       "      <td>65</td>\n",
       "      <td>65</td>\n",
       "      <td>156</td>\n",
       "      <td>200</td>\n",
       "    </tr>\n",
       "    <tr>\n",
       "      <th>4</th>\n",
       "      <td>img/Sheer_Pleated-Front_Blouse/img_00000004.jpg</td>\n",
       "      <td>200</td>\n",
       "      <td>250</td>\n",
       "      <td>1</td>\n",
       "      <td>51</td>\n",
       "      <td>62</td>\n",
       "      <td>167</td>\n",
       "      <td>182</td>\n",
       "    </tr>\n",
       "    <tr>\n",
       "      <th>5</th>\n",
       "      <td>img/Sheer_Pleated-Front_Blouse/img_00000005.jpg</td>\n",
       "      <td>200</td>\n",
       "      <td>300</td>\n",
       "      <td>1</td>\n",
       "      <td>46</td>\n",
       "      <td>88</td>\n",
       "      <td>166</td>\n",
       "      <td>262</td>\n",
       "    </tr>\n",
       "  </tbody>\n",
       "</table>\n",
       "</div>"
      ],
      "text/plain": [
       "                                          img_path  width  height  label  x1  \\\n",
       "1  img/Sheer_Pleated-Front_Blouse/img_00000001.jpg    300     300      1  72   \n",
       "2  img/Sheer_Pleated-Front_Blouse/img_00000002.jpg    205     300      1  67   \n",
       "3  img/Sheer_Pleated-Front_Blouse/img_00000003.jpg    207     300      1  65   \n",
       "4  img/Sheer_Pleated-Front_Blouse/img_00000004.jpg    200     250      1  51   \n",
       "5  img/Sheer_Pleated-Front_Blouse/img_00000005.jpg    200     300      1  46   \n",
       "\n",
       "   y1   x2   y2  \n",
       "1  79  232  273  \n",
       "2  59  155  161  \n",
       "3  65  156  200  \n",
       "4  62  167  182  \n",
       "5  88  166  262  "
      ]
     },
     "execution_count": 20,
     "metadata": {},
     "output_type": "execute_result"
    }
   ],
   "source": [
    "df2 = df2.astype({'x1':'int64','y1':'int64','x2':'int64','y2':'int64'})\n",
    "df2 = df2[['img_path','width','height','label','x1','y1','x2','y2']]\n",
    "df2.head()"
   ]
  },
  {
   "cell_type": "code",
   "execution_count": 21,
   "metadata": {},
   "outputs": [],
   "source": [
    "#df2['x1_norm'] = df2['x1'] / df2['width']\n",
    "#df2['y1_norm'] = df2['y1'] / df2['height']\n",
    "#df2['x3_norm'] = df2['x2'] / df2['width']\n",
    "#df2['y3_norm'] = df2['y2'] / df2['height']\n",
    "\n",
    "df2['cx_norm'] = round(((df2['x2'] - df2['x1']) /2 + df2['x1']) / df2['width'],6) \n",
    "df2['cy_norm'] = round(((df2['y2'] - df2['y1']) /2 + df2['y1']) / df2['height'],6)  \n",
    "df2['box_width_norm'] = round((df2['x2'] - df2['x1']) / df2['width'],6)\n",
    "df2['box_height_norm'] = round((df2['y2'] - df2['y1']) / df2['height'],6)"
   ]
  },
  {
   "cell_type": "code",
   "execution_count": 23,
   "metadata": {},
   "outputs": [
    {
     "data": {
      "text/html": [
       "<div>\n",
       "<style scoped>\n",
       "    .dataframe tbody tr th:only-of-type {\n",
       "        vertical-align: middle;\n",
       "    }\n",
       "\n",
       "    .dataframe tbody tr th {\n",
       "        vertical-align: top;\n",
       "    }\n",
       "\n",
       "    .dataframe thead th {\n",
       "        text-align: right;\n",
       "    }\n",
       "</style>\n",
       "<table border=\"1\" class=\"dataframe\">\n",
       "  <thead>\n",
       "    <tr style=\"text-align: right;\">\n",
       "      <th></th>\n",
       "      <th>img_path</th>\n",
       "      <th>label</th>\n",
       "      <th>cx_norm</th>\n",
       "      <th>cy_norm</th>\n",
       "      <th>box_width_norm</th>\n",
       "      <th>box_height_norm</th>\n",
       "    </tr>\n",
       "  </thead>\n",
       "  <tbody>\n",
       "    <tr>\n",
       "      <th>1</th>\n",
       "      <td>img/Sheer_Pleated-Front_Blouse/img_00000001.jpg</td>\n",
       "      <td>1</td>\n",
       "      <td>0.506667</td>\n",
       "      <td>0.586667</td>\n",
       "      <td>0.533333</td>\n",
       "      <td>0.646667</td>\n",
       "    </tr>\n",
       "    <tr>\n",
       "      <th>2</th>\n",
       "      <td>img/Sheer_Pleated-Front_Blouse/img_00000002.jpg</td>\n",
       "      <td>1</td>\n",
       "      <td>0.541463</td>\n",
       "      <td>0.366667</td>\n",
       "      <td>0.429268</td>\n",
       "      <td>0.340000</td>\n",
       "    </tr>\n",
       "    <tr>\n",
       "      <th>3</th>\n",
       "      <td>img/Sheer_Pleated-Front_Blouse/img_00000003.jpg</td>\n",
       "      <td>1</td>\n",
       "      <td>0.533816</td>\n",
       "      <td>0.441667</td>\n",
       "      <td>0.439614</td>\n",
       "      <td>0.450000</td>\n",
       "    </tr>\n",
       "    <tr>\n",
       "      <th>4</th>\n",
       "      <td>img/Sheer_Pleated-Front_Blouse/img_00000004.jpg</td>\n",
       "      <td>1</td>\n",
       "      <td>0.545000</td>\n",
       "      <td>0.488000</td>\n",
       "      <td>0.580000</td>\n",
       "      <td>0.480000</td>\n",
       "    </tr>\n",
       "    <tr>\n",
       "      <th>5</th>\n",
       "      <td>img/Sheer_Pleated-Front_Blouse/img_00000005.jpg</td>\n",
       "      <td>1</td>\n",
       "      <td>0.530000</td>\n",
       "      <td>0.583333</td>\n",
       "      <td>0.600000</td>\n",
       "      <td>0.580000</td>\n",
       "    </tr>\n",
       "  </tbody>\n",
       "</table>\n",
       "</div>"
      ],
      "text/plain": [
       "                                          img_path  label   cx_norm   cy_norm  \\\n",
       "1  img/Sheer_Pleated-Front_Blouse/img_00000001.jpg      1  0.506667  0.586667   \n",
       "2  img/Sheer_Pleated-Front_Blouse/img_00000002.jpg      1  0.541463  0.366667   \n",
       "3  img/Sheer_Pleated-Front_Blouse/img_00000003.jpg      1  0.533816  0.441667   \n",
       "4  img/Sheer_Pleated-Front_Blouse/img_00000004.jpg      1  0.545000  0.488000   \n",
       "5  img/Sheer_Pleated-Front_Blouse/img_00000005.jpg      1  0.530000  0.583333   \n",
       "\n",
       "   box_width_norm  box_height_norm  \n",
       "1        0.533333         0.646667  \n",
       "2        0.429268         0.340000  \n",
       "3        0.439614         0.450000  \n",
       "4        0.580000         0.480000  \n",
       "5        0.600000         0.580000  "
      ]
     },
     "execution_count": 23,
     "metadata": {},
     "output_type": "execute_result"
    }
   ],
   "source": [
    "df2 = df2[['img_path','label','cx_norm','cy_norm','box_width_norm','box_height_norm']]\n",
    "df2.head()"
   ]
  },
  {
   "cell_type": "markdown",
   "metadata": {},
   "source": [
    "### dataframe txt로 저장하기 & 불러오기"
   ]
  },
  {
   "cell_type": "code",
   "execution_count": 24,
   "metadata": {},
   "outputs": [],
   "source": [
    "#df2.to_csv('annotation.txt', header=None, index=False, sep=' ', mode='w')"
   ]
  },
  {
   "cell_type": "markdown",
   "metadata": {},
   "source": [
    "### 불러온 어노테이션 파일을 train/val/test로 나누기"
   ]
  },
  {
   "cell_type": "code",
   "execution_count": 25,
   "metadata": {},
   "outputs": [],
   "source": [
    "data_list = []\n",
    "with open(abspath+'Eval/list_eval_partition.txt') as f:\n",
    "    f.readline()\n",
    "    f.readline()\n",
    "    for line in f:\n",
    "        c, n = line.split()\n",
    "        data_list.append(n)"
   ]
  },
  {
   "cell_type": "code",
   "execution_count": 26,
   "metadata": {},
   "outputs": [
    {
     "data": {
      "text/plain": [
       "289222"
      ]
     },
     "execution_count": 26,
     "metadata": {},
     "output_type": "execute_result"
    }
   ],
   "source": [
    "len(data_list)"
   ]
  },
  {
   "cell_type": "code",
   "execution_count": 27,
   "metadata": {},
   "outputs": [
    {
     "data": {
      "text/html": [
       "<div>\n",
       "<style scoped>\n",
       "    .dataframe tbody tr th:only-of-type {\n",
       "        vertical-align: middle;\n",
       "    }\n",
       "\n",
       "    .dataframe tbody tr th {\n",
       "        vertical-align: top;\n",
       "    }\n",
       "\n",
       "    .dataframe thead th {\n",
       "        text-align: right;\n",
       "    }\n",
       "</style>\n",
       "<table border=\"1\" class=\"dataframe\">\n",
       "  <thead>\n",
       "    <tr style=\"text-align: right;\">\n",
       "      <th></th>\n",
       "      <th>img_path</th>\n",
       "      <th>label</th>\n",
       "      <th>cx_norm</th>\n",
       "      <th>cy_norm</th>\n",
       "      <th>box_width_norm</th>\n",
       "      <th>box_height_norm</th>\n",
       "      <th>data_type</th>\n",
       "    </tr>\n",
       "  </thead>\n",
       "  <tbody>\n",
       "    <tr>\n",
       "      <th>1</th>\n",
       "      <td>img/Sheer_Pleated-Front_Blouse/img_00000001.jpg</td>\n",
       "      <td>1</td>\n",
       "      <td>0.506667</td>\n",
       "      <td>0.586667</td>\n",
       "      <td>0.533333</td>\n",
       "      <td>0.646667</td>\n",
       "      <td>train</td>\n",
       "    </tr>\n",
       "    <tr>\n",
       "      <th>2</th>\n",
       "      <td>img/Sheer_Pleated-Front_Blouse/img_00000002.jpg</td>\n",
       "      <td>1</td>\n",
       "      <td>0.541463</td>\n",
       "      <td>0.366667</td>\n",
       "      <td>0.429268</td>\n",
       "      <td>0.340000</td>\n",
       "      <td>train</td>\n",
       "    </tr>\n",
       "    <tr>\n",
       "      <th>3</th>\n",
       "      <td>img/Sheer_Pleated-Front_Blouse/img_00000003.jpg</td>\n",
       "      <td>1</td>\n",
       "      <td>0.533816</td>\n",
       "      <td>0.441667</td>\n",
       "      <td>0.439614</td>\n",
       "      <td>0.450000</td>\n",
       "      <td>val</td>\n",
       "    </tr>\n",
       "    <tr>\n",
       "      <th>4</th>\n",
       "      <td>img/Sheer_Pleated-Front_Blouse/img_00000004.jpg</td>\n",
       "      <td>1</td>\n",
       "      <td>0.545000</td>\n",
       "      <td>0.488000</td>\n",
       "      <td>0.580000</td>\n",
       "      <td>0.480000</td>\n",
       "      <td>train</td>\n",
       "    </tr>\n",
       "    <tr>\n",
       "      <th>5</th>\n",
       "      <td>img/Sheer_Pleated-Front_Blouse/img_00000005.jpg</td>\n",
       "      <td>1</td>\n",
       "      <td>0.530000</td>\n",
       "      <td>0.583333</td>\n",
       "      <td>0.600000</td>\n",
       "      <td>0.580000</td>\n",
       "      <td>test</td>\n",
       "    </tr>\n",
       "  </tbody>\n",
       "</table>\n",
       "</div>"
      ],
      "text/plain": [
       "                                          img_path  label   cx_norm   cy_norm  \\\n",
       "1  img/Sheer_Pleated-Front_Blouse/img_00000001.jpg      1  0.506667  0.586667   \n",
       "2  img/Sheer_Pleated-Front_Blouse/img_00000002.jpg      1  0.541463  0.366667   \n",
       "3  img/Sheer_Pleated-Front_Blouse/img_00000003.jpg      1  0.533816  0.441667   \n",
       "4  img/Sheer_Pleated-Front_Blouse/img_00000004.jpg      1  0.545000  0.488000   \n",
       "5  img/Sheer_Pleated-Front_Blouse/img_00000005.jpg      1  0.530000  0.583333   \n",
       "\n",
       "   box_width_norm  box_height_norm data_type  \n",
       "1        0.533333         0.646667     train  \n",
       "2        0.429268         0.340000     train  \n",
       "3        0.439614         0.450000       val  \n",
       "4        0.580000         0.480000     train  \n",
       "5        0.600000         0.580000      test  "
      ]
     },
     "execution_count": 27,
     "metadata": {},
     "output_type": "execute_result"
    }
   ],
   "source": [
    "df2['data_type'] = data_list\n",
    "df2.head()"
   ]
  },
  {
   "cell_type": "code",
   "execution_count": 28,
   "metadata": {},
   "outputs": [],
   "source": [
    "abs_path = []\n",
    "for i in df2['img_path']:\n",
    "    abs_path.append(abspath+i)"
   ]
  },
  {
   "cell_type": "code",
   "execution_count": 29,
   "metadata": {},
   "outputs": [
    {
     "data": {
      "text/html": [
       "<div>\n",
       "<style scoped>\n",
       "    .dataframe tbody tr th:only-of-type {\n",
       "        vertical-align: middle;\n",
       "    }\n",
       "\n",
       "    .dataframe tbody tr th {\n",
       "        vertical-align: top;\n",
       "    }\n",
       "\n",
       "    .dataframe thead th {\n",
       "        text-align: right;\n",
       "    }\n",
       "</style>\n",
       "<table border=\"1\" class=\"dataframe\">\n",
       "  <thead>\n",
       "    <tr style=\"text-align: right;\">\n",
       "      <th></th>\n",
       "      <th>img_path</th>\n",
       "      <th>label</th>\n",
       "      <th>cx_norm</th>\n",
       "      <th>cy_norm</th>\n",
       "      <th>box_width_norm</th>\n",
       "      <th>box_height_norm</th>\n",
       "      <th>data_type</th>\n",
       "    </tr>\n",
       "  </thead>\n",
       "  <tbody>\n",
       "    <tr>\n",
       "      <th>1</th>\n",
       "      <td>/home/piclick/data/deepfashion/Attribute/img/S...</td>\n",
       "      <td>1</td>\n",
       "      <td>0.506667</td>\n",
       "      <td>0.586667</td>\n",
       "      <td>0.533333</td>\n",
       "      <td>0.646667</td>\n",
       "      <td>train</td>\n",
       "    </tr>\n",
       "    <tr>\n",
       "      <th>2</th>\n",
       "      <td>/home/piclick/data/deepfashion/Attribute/img/S...</td>\n",
       "      <td>1</td>\n",
       "      <td>0.541463</td>\n",
       "      <td>0.366667</td>\n",
       "      <td>0.429268</td>\n",
       "      <td>0.340000</td>\n",
       "      <td>train</td>\n",
       "    </tr>\n",
       "    <tr>\n",
       "      <th>3</th>\n",
       "      <td>/home/piclick/data/deepfashion/Attribute/img/S...</td>\n",
       "      <td>1</td>\n",
       "      <td>0.533816</td>\n",
       "      <td>0.441667</td>\n",
       "      <td>0.439614</td>\n",
       "      <td>0.450000</td>\n",
       "      <td>val</td>\n",
       "    </tr>\n",
       "    <tr>\n",
       "      <th>4</th>\n",
       "      <td>/home/piclick/data/deepfashion/Attribute/img/S...</td>\n",
       "      <td>1</td>\n",
       "      <td>0.545000</td>\n",
       "      <td>0.488000</td>\n",
       "      <td>0.580000</td>\n",
       "      <td>0.480000</td>\n",
       "      <td>train</td>\n",
       "    </tr>\n",
       "    <tr>\n",
       "      <th>5</th>\n",
       "      <td>/home/piclick/data/deepfashion/Attribute/img/S...</td>\n",
       "      <td>1</td>\n",
       "      <td>0.530000</td>\n",
       "      <td>0.583333</td>\n",
       "      <td>0.600000</td>\n",
       "      <td>0.580000</td>\n",
       "      <td>test</td>\n",
       "    </tr>\n",
       "  </tbody>\n",
       "</table>\n",
       "</div>"
      ],
      "text/plain": [
       "                                            img_path  label   cx_norm  \\\n",
       "1  /home/piclick/data/deepfashion/Attribute/img/S...      1  0.506667   \n",
       "2  /home/piclick/data/deepfashion/Attribute/img/S...      1  0.541463   \n",
       "3  /home/piclick/data/deepfashion/Attribute/img/S...      1  0.533816   \n",
       "4  /home/piclick/data/deepfashion/Attribute/img/S...      1  0.545000   \n",
       "5  /home/piclick/data/deepfashion/Attribute/img/S...      1  0.530000   \n",
       "\n",
       "    cy_norm  box_width_norm  box_height_norm data_type  \n",
       "1  0.586667        0.533333         0.646667     train  \n",
       "2  0.366667        0.429268         0.340000     train  \n",
       "3  0.441667        0.439614         0.450000       val  \n",
       "4  0.488000        0.580000         0.480000     train  \n",
       "5  0.583333        0.600000         0.580000      test  "
      ]
     },
     "execution_count": 29,
     "metadata": {},
     "output_type": "execute_result"
    }
   ],
   "source": [
    "df2['img_path'] = abs_path\n",
    "df2.head()"
   ]
  },
  {
   "cell_type": "code",
   "execution_count": 30,
   "metadata": {},
   "outputs": [],
   "source": [
    "train_df = df2[df2['data_type'] == 'train']\n",
    "val_df = df2[df2['data_type'] == 'val']\n",
    "test_df = df2[df2['data_type'] == 'test']"
   ]
  },
  {
   "cell_type": "code",
   "execution_count": 31,
   "metadata": {},
   "outputs": [
    {
     "data": {
      "text/html": [
       "<div>\n",
       "<style scoped>\n",
       "    .dataframe tbody tr th:only-of-type {\n",
       "        vertical-align: middle;\n",
       "    }\n",
       "\n",
       "    .dataframe tbody tr th {\n",
       "        vertical-align: top;\n",
       "    }\n",
       "\n",
       "    .dataframe thead th {\n",
       "        text-align: right;\n",
       "    }\n",
       "</style>\n",
       "<table border=\"1\" class=\"dataframe\">\n",
       "  <thead>\n",
       "    <tr style=\"text-align: right;\">\n",
       "      <th></th>\n",
       "      <th>img_path</th>\n",
       "      <th>label</th>\n",
       "      <th>cx_norm</th>\n",
       "      <th>cy_norm</th>\n",
       "      <th>box_width_norm</th>\n",
       "      <th>box_height_norm</th>\n",
       "      <th>data_type</th>\n",
       "    </tr>\n",
       "  </thead>\n",
       "  <tbody>\n",
       "    <tr>\n",
       "      <th>1</th>\n",
       "      <td>/home/piclick/data/deepfashion/Attribute/img/S...</td>\n",
       "      <td>1</td>\n",
       "      <td>0.506667</td>\n",
       "      <td>0.586667</td>\n",
       "      <td>0.533333</td>\n",
       "      <td>0.646667</td>\n",
       "      <td>train</td>\n",
       "    </tr>\n",
       "    <tr>\n",
       "      <th>2</th>\n",
       "      <td>/home/piclick/data/deepfashion/Attribute/img/S...</td>\n",
       "      <td>1</td>\n",
       "      <td>0.541463</td>\n",
       "      <td>0.366667</td>\n",
       "      <td>0.429268</td>\n",
       "      <td>0.340000</td>\n",
       "      <td>train</td>\n",
       "    </tr>\n",
       "    <tr>\n",
       "      <th>4</th>\n",
       "      <td>/home/piclick/data/deepfashion/Attribute/img/S...</td>\n",
       "      <td>1</td>\n",
       "      <td>0.545000</td>\n",
       "      <td>0.488000</td>\n",
       "      <td>0.580000</td>\n",
       "      <td>0.480000</td>\n",
       "      <td>train</td>\n",
       "    </tr>\n",
       "    <tr>\n",
       "      <th>8</th>\n",
       "      <td>/home/piclick/data/deepfashion/Attribute/img/S...</td>\n",
       "      <td>1</td>\n",
       "      <td>0.453333</td>\n",
       "      <td>0.533333</td>\n",
       "      <td>0.406667</td>\n",
       "      <td>0.573333</td>\n",
       "      <td>train</td>\n",
       "    </tr>\n",
       "    <tr>\n",
       "      <th>9</th>\n",
       "      <td>/home/piclick/data/deepfashion/Attribute/img/S...</td>\n",
       "      <td>1</td>\n",
       "      <td>0.421951</td>\n",
       "      <td>0.485000</td>\n",
       "      <td>0.609756</td>\n",
       "      <td>0.596667</td>\n",
       "      <td>train</td>\n",
       "    </tr>\n",
       "  </tbody>\n",
       "</table>\n",
       "</div>"
      ],
      "text/plain": [
       "                                            img_path  label   cx_norm  \\\n",
       "1  /home/piclick/data/deepfashion/Attribute/img/S...      1  0.506667   \n",
       "2  /home/piclick/data/deepfashion/Attribute/img/S...      1  0.541463   \n",
       "4  /home/piclick/data/deepfashion/Attribute/img/S...      1  0.545000   \n",
       "8  /home/piclick/data/deepfashion/Attribute/img/S...      1  0.453333   \n",
       "9  /home/piclick/data/deepfashion/Attribute/img/S...      1  0.421951   \n",
       "\n",
       "    cy_norm  box_width_norm  box_height_norm data_type  \n",
       "1  0.586667        0.533333         0.646667     train  \n",
       "2  0.366667        0.429268         0.340000     train  \n",
       "4  0.488000        0.580000         0.480000     train  \n",
       "8  0.533333        0.406667         0.573333     train  \n",
       "9  0.485000        0.609756         0.596667     train  "
      ]
     },
     "execution_count": 31,
     "metadata": {},
     "output_type": "execute_result"
    }
   ],
   "source": [
    "train_df.head()"
   ]
  },
  {
   "cell_type": "code",
   "execution_count": 32,
   "metadata": {},
   "outputs": [],
   "source": [
    "#data_type 열 삭제\n",
    "train_df = train_df.drop('data_type',axis=1)\n",
    "val_df = val_df.drop('data_type',axis=1)\n",
    "test_df = test_df.drop('data_type',axis=1)"
   ]
  },
  {
   "cell_type": "code",
   "execution_count": 33,
   "metadata": {},
   "outputs": [],
   "source": [
    "train_list = len(train_df[train_df['label'] == 0]), len(train_df[train_df['label'] == 1]), len(train_df[train_df['label'] == 2]), len(train_df[train_df['label'] == 3])\n",
    "val_list =len(val_df[val_df['label'] == 0]), len(val_df[val_df['label'] == 1]), len(val_df[val_df['label'] == 2]), len(val_df[val_df['label'] == 3])\n",
    "test_list =len(test_df[test_df['label'] == 0]), len(test_df[test_df['label'] == 1]), len(test_df[test_df['label'] == 2]), len(test_df[test_df['label'] == 3])"
   ]
  },
  {
   "cell_type": "code",
   "execution_count": 37,
   "metadata": {},
   "outputs": [
    {
     "data": {
      "image/png": "[encoded data removed]",
      "text/plain": [
       "<Figure size 432x288 with 1 Axes>"
      ]
     },
     "metadata": {},
     "output_type": "display_data"
    }
   ],
   "source": [
    "# outer, top, bottom, onepiece\n",
    "label_list = [0,1,2,3] \n",
    "\n",
    "plt.bar(label_list, train_list, color='b')\n",
    "#plt.bar(label_list, val_list, color='r')\n",
    "#plt.bar(label_list, test_list, color='g')\n",
    "plt.show()"
   ]
  },
  {
   "cell_type": "code",
   "execution_count": 38,
   "metadata": {},
   "outputs": [],
   "source": [
    "#train_df.to_csv('train.txt', header=None, index=False, sep=' ', mode='w')\n",
    "#val_df.to_csv('val.txt', header=None, index=False, sep=' ', mode='w')\n",
    "#test_df.to_csv('test.txt', header=None, index=False, sep=' ', mode='w')"
   ]
  },
  {
   "cell_type": "code",
   "execution_count": 42,
   "metadata": {
    "scrolled": true
   },
   "outputs": [],
   "source": [
    "train_df = train_df.reset_index()\n",
    "train_df = train_df.drop(labels='index',axis=1)\n",
    "val_df = val_df.reset_index()\n",
    "val_df = val_df.drop(labels='index',axis=1)\n",
    "test_df = test_df.reset_index()\n",
    "test_df = test_df.drop(labels='index',axis=1)"
   ]
  },
  {
   "cell_type": "markdown",
   "metadata": {},
   "source": [
    "## txt file"
   ]
  },
  {
   "cell_type": "code",
   "execution_count": 48,
   "metadata": {},
   "outputs": [],
   "source": [
    "dst = '/home/piclick/data/deepfashion/images/'\n",
    "datatypelist = ['train','val','test']\n",
    "dflist = [train_df,val_df,test_df]\n",
    "\n",
    "txtfilelist=[]\n",
    "\n",
    "for datatype,df in zip(datatypelist,dflist):\n",
    "    for ind, row in df.iterrows():\n",
    "        newfilename = row['img_path'].split('/')[-2] +'_'+ row['img_path'].split('/')[-1]\n",
    "        \n",
    "        with open(datatype +'.txt', 'a') as f:\n",
    "            f.write(dst + datatype+ '/' + newfilename + '\\n')"
   ]
  },
  {
   "cell_type": "code",
   "execution_count": 49,
   "metadata": {},
   "outputs": [],
   "source": [
    "filenames = ['train.txt', 'val.txt']\n",
    "\n",
    "with open('trainval.txt', 'w') as outfile:\n",
    "    for fname in filenames:\n",
    "        with open(fname) as infile:\n",
    "            outfile.write(infile.read())"
   ]
  },
  {
   "cell_type": "markdown",
   "metadata": {},
   "source": [
    "## 이미지 카피"
   ]
  },
  {
   "cell_type": "code",
   "execution_count": 43,
   "metadata": {},
   "outputs": [],
   "source": [
    "import os\n",
    "import glob\n",
    "import json\n",
    "from shutil import copyfile"
   ]
  },
  {
   "cell_type": "code",
   "execution_count": 44,
   "metadata": {},
   "outputs": [],
   "source": [
    "dst = '/home/piclick/data/deepfashion/images/'\n",
    "datatypelist = ['train','val','test']\n",
    "dflist = [train_df,val_df,test_df]\n",
    "\n",
    "for datatype,df in zip(datatypelist,dflist):\n",
    "    for ind, row in df.iterrows():\n",
    "        newfilename = row['img_path'].split('/')[-2] +'_'+ row['img_path'].split('/')[-1]\n",
    "\n",
    "        copyfile(row['img_path'], dst + datatype+ '/' + newfilename)"
   ]
  },
  {
   "cell_type": "markdown",
   "metadata": {},
   "source": [
    "## 라벨 생성"
   ]
  },
  {
   "cell_type": "code",
   "execution_count": null,
   "metadata": {},
   "outputs": [],
   "source": [
    "dst = '/home/piclick/data/deepfashion/labels/'\n",
    "datatypelist = ['train','val','test']\n",
    "dflist = [train_df,val_df,test_df]\n",
    "\n",
    "for datatype,df in zip(datatypelist,dflist):\n",
    "    for ind, row in df.iterrows():\n",
    "        newfilename = row['img_path'].split('/')[-2] +'_'+ row['img_path'].split('/')[-1].replace('.jpg','.txt')\n",
    "    \n",
    "        with open(dst+datatype+'/'+datatype+'_'+ newfilename, 'w') as f:\n",
    "            f.write('{} {} {} {} {}'.format(row['label'],\n",
    "                                            row['cx_norm'],\n",
    "                                            row['cy_norm'],\n",
    "                                            row['box_width_norm'],\n",
    "                                            row['box_height_norm']\n",
    "                                           ))\n"
   ]
  }
 ],
 "metadata": {
  "kernelspec": {
   "display_name": "Python 3",
   "language": "python",
   "name": "python3"
  },
  "language_info": {
   "codemirror_mode": {
    "name": "ipython",
    "version": 3
   },
   "file_extension": ".py",
   "mimetype": "text/x-python",
   "name": "python",
   "nbconvert_exporter": "python",
   "pygments_lexer": "ipython3",
   "version": "3.7.4"
  }
 },
 "nbformat": 4,
 "nbformat_minor": 2
}
